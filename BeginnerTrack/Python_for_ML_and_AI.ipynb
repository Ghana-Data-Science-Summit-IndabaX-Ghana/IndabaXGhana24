{
  "nbformat": 4,
  "nbformat_minor": 0,
  "metadata": {
    "colab": {
      "provenance": []
    },
    "kernelspec": {
      "name": "python3",
      "display_name": "Python 3"
    },
    "language_info": {
      "name": "python"
    }
  },
  "cells": [
    {
      "cell_type": "markdown",
      "source": [
        "# **Credit Card Fraud Detection with Python**\n",
        "\n",
        "## Content\n",
        "\n",
        "1. [Introduction](#introduction)\n",
        "2. [What are Libraries and Why Do We Need Them?](#libraries)\n",
        "3. [Installing and Importing Libraries](#installing-importing)\n",
        "4. [About the Libraries](#about-libraries)\n",
        "   - 4.1 [Numpy](#numpy)\n",
        "   - 4.2 [Pandas](#pandas)\n",
        "   - 4.3 [Matplotlib](#matplotlib)\n",
        "   - 4.4 [Seaborn](#seaborn)\n",
        "   - 4.5 [Scikit-learn](#scikit-learn)\n",
        "5. [Steps involved in building an ML Model](#ml)\n",
        "6. [Loading the Dataset](#loading-dataset)\n",
        "6. [Exploring the Dataset](#exploring-dataset)\n",
        "7. [Data Visualization](#data-visualization)\n",
        "8. [Data Preprocessing](#data-preprocessing)\n",
        "   - 8.1 [Handling Missing Values](#handling-missing-values)\n",
        "   - 8.2 [Splitting the Data](#splitting-data)\n",
        "   - 8.3 [Dealing with Imbalanced Data](#dealing-imbalanced-data)\n",
        "   - 8.4 [Standardizing the Features](#standardizing-features)\n",
        "9. [Building and Training the Model](#building-training-model)\n",
        "10. [Making Predictions](#making-predictions)\n",
        "11. [Evaluating the Model](#evaluating-model)\n",
        "   - 11.1 [Classification Report](#classification-report)\n",
        "   - 11.2 [Confusion Matrix](#confusion-matrix)\n",
        "     - 11.2.1 [Layout of a Confusion Matrix](#aconfusion-matrix)\n",
        "   - 11.3 [ROC Curve and AUC](#roc-auc)\n",
        "12. [User Input for Prediction](#user-input)\n",
        "13. [Conclusion](#conclusion)\n",
        "\n",
        "---\n",
        "\n",
        "## Introduction <a name=\"introduction\"></a>\n",
        "In this tutorial, we will walk through a complete machine learning project to detect credit card fraud. We will use Python and several popular libraries, including scikit-learn, pandas, numpy, matplotlib, and seaborn. By the end of this tutorial, you will have a good understanding of how to use these libraries to build and evaluate a machine learning model.\n",
        "\n",
        "---\n",
        "\n",
        "## What are Libraries and Why Do We Need Them? <a name=\"libraries\"></a>\n",
        "\n",
        "\n",
        "Libraries are collections of pre-written code that you can use to perform common tasks. They save you time and effort by providing ready-made functions and tools. In Python, libraries are crucial for data science and machine learning because they offer a wide range of functionalities, from data manipulation to advanced mathematical operations and visualization.\n",
        "\n",
        "**Dependencies?**\n",
        "\n",
        "These libraries provide specific functionalities in programming, while dependencies are external components essential for a project's proper functioning, ensuring compatibility and reliability. Examples include NumPy and Pandas as libraries, and specific versions of these as dependencies in Python projects.\n",
        "\n",
        "---\n",
        "\n",
        "## Installing and Importing Libraries <a name=\"installing-importing\"></a>\n",
        "First, let's install and import the necessary libraries.\n",
        "\n",
        "### Installing Libraries\n",
        "To install libraries, you can use the `pip` command. In Google Colab, you can install libraries directly in a code cell.\n",
        "\n",
        "```python\n",
        "!pip install numpy pandas matplotlib seaborn scikit-learn\n"
      ],
      "metadata": {
        "id": "OAIubEq1NzR4"
      }
    },
    {
      "cell_type": "markdown",
      "source": [
        "**Importing Libraries**\n",
        "\n",
        "Now, let's import the libraries we will use in this tutorial."
      ],
      "metadata": {
        "id": "QIMsQBV4PJZ9"
      }
    },
    {
      "cell_type": "code",
      "execution_count": null,
      "metadata": {
        "id": "Ny-nJL5ZNVk-"
      },
      "outputs": [],
      "source": [
        "import numpy as np\n",
        "import pandas as pd\n",
        "import matplotlib.pyplot as plt\n",
        "import seaborn as sns\n",
        "from sklearn.model_selection import train_test_split, cross_val_score, GridSearchCV\n",
        "from sklearn.preprocessing import StandardScaler\n",
        "from sklearn.ensemble import RandomForestClassifier, GradientBoostingClassifier\n",
        "from sklearn.metrics import classification_report\n",
        "from sklearn.metrics import confusion_matrix, ConfusionMatrixDisplay\n",
        "import matplotlib.pyplot as plt\n",
        "from sklearn.metrics import RocCurveDisplay\n",
        "from imblearn.over_sampling import SMOTE\n"
      ]
    },
    {
      "cell_type": "markdown",
      "source": [
        "#About the Libraries <a name=\"about-libraries\"></a>\n",
        "\n",
        "**Numpy <a name=\"numpy\"></a>**\n",
        "\n",
        "Numpy is a powerful library for numerical computations. It provides support for arrays, matrices, and many mathematical functions."
      ],
      "metadata": {
        "id": "301-js-CPn3h"
      }
    },
    {
      "cell_type": "markdown",
      "source": [
        "![Numpy Logo](https://th.bing.com/th/id/OIP.Q5FR3UBk0lctzx8vwbcMTQHaFO?rs=1&pid=ImgDetMain)\n"
      ],
      "metadata": {
        "id": "nWaju-P5S-rA"
      }
    },
    {
      "cell_type": "markdown",
      "source": [
        "**Pandas <a name=\"pandas\"></a>**\n",
        "\n",
        "Pandas is a library used for data manipulation and analysis. It offers data structures like DataFrames, which are great for handling tabular data."
      ],
      "metadata": {
        "id": "xZ1nipc8TpKO"
      }
    },
    {
      "cell_type": "markdown",
      "source": [
        "![Pandas Logo](https://th.bing.com/th/id/OIP.UhPrO71Q-C3PgpwzRgSnBAHaD4?rs=1&pid=ImgDetMain)"
      ],
      "metadata": {
        "id": "YRPC_bMFTwBS"
      }
    },
    {
      "cell_type": "markdown",
      "source": [
        "**Matplotlib <a name=\"matplotlib\"></a>**\n",
        "\n",
        "Matplotlib is a plotting library used for creating static, interactive, and animated visualizations in Python."
      ],
      "metadata": {
        "id": "AJfQZ0-CUz6t"
      }
    },
    {
      "cell_type": "markdown",
      "source": [
        "**Seaborn <a name=\"seaborn\"></a>**\n",
        "\n",
        "Seaborn is a statistical data visualization library based on Matplotlib. It provides a high-level interface for drawing attractive and informative statistical graphics."
      ],
      "metadata": {
        "id": "G7TIhc07UzuF"
      }
    },
    {
      "cell_type": "markdown",
      "source": [
        "**Scikit-learn <a name=\"scikit-learn\"></a>**\n",
        "\n",
        "Scikit-learn is a machine learning library that provides simple and efficient tools for data mining and data analysis.\n",
        "\n",
        "It is a comprehensive machine learning library that includes various algorithms for classification, regression, clustering, and more. It also provides tools for model selection, evaluation, and preprocessing of data.\n",
        "\n"
      ],
      "metadata": {
        "id": "Mr2OYtoKUzgO"
      }
    },
    {
      "cell_type": "markdown",
      "source": [
        "#The steps involved in building Machine Learning models <a name=\"ml\"></a>\n",
        "![ML immage](https://th.bing.com/th/id/OIP.g8FbnR-xikAiWqcsyRCq4QHaDa?rs=1&pid=ImgDetMain)"
      ],
      "metadata": {
        "id": "_RZ5ppbMYe6Z"
      }
    },
    {
      "cell_type": "markdown",
      "source": [
        "#**Loading the Dataset <a name=\"loading-dataset\"></a>**\n",
        "\n",
        "We will use the Credit Card Fraud Detection dataset, which contains transactions made by credit cards in September 2013 by European cardholders. The dataset is highly unbalanced, with the positive class (frauds) accounting for 0.172% of all transactions."
      ],
      "metadata": {
        "id": "wsoHzbX-Uygx"
      }
    },
    {
      "cell_type": "code",
      "source": [
        "url = 'https://storage.googleapis.com/download.tensorflow.org/data/creditcard.csv'\n",
        "df = pd.read_csv(url)\n"
      ],
      "metadata": {
        "id": "A2pG4nO8NpJQ"
      },
      "execution_count": null,
      "outputs": []
    },
    {
      "cell_type": "markdown",
      "source": [
        "**Exploring the Dataset <a name=\"exploring-dataset\"></a>**\n",
        "\n",
        "To understand the dataset, we'll use Pandas to load the data and perform initial exploratory data analysis (EDA). Functions like head(), info(), and describe() will help us get insights into the dataset's structure, features, and basic statistics.\n",
        "\n",
        "Let's take a look at the first few rows of the dataset to understand its structure.\n",
        "\n",
        "And the last few rows respectively."
      ],
      "metadata": {
        "id": "S5o4TaUOZofT"
      }
    },
    {
      "cell_type": "code",
      "source": [
        "print(df.head())\n"
      ],
      "metadata": {
        "colab": {
          "base_uri": "https://localhost:8080/"
        },
        "id": "At8NpplSNpXJ",
        "outputId": "ec2192b2-9b14-43ce-aa42-2664ad51c240"
      },
      "execution_count": null,
      "outputs": [
        {
          "output_type": "stream",
          "name": "stdout",
          "text": [
            "   Time        V1        V2        V3        V4        V5        V6        V7  \\\n",
            "0   0.0 -1.359807 -0.072781  2.536347  1.378155 -0.338321  0.462388  0.239599   \n",
            "1   0.0  1.191857  0.266151  0.166480  0.448154  0.060018 -0.082361 -0.078803   \n",
            "2   1.0 -1.358354 -1.340163  1.773209  0.379780 -0.503198  1.800499  0.791461   \n",
            "3   1.0 -0.966272 -0.185226  1.792993 -0.863291 -0.010309  1.247203  0.237609   \n",
            "4   2.0 -1.158233  0.877737  1.548718  0.403034 -0.407193  0.095921  0.592941   \n",
            "\n",
            "         V8        V9  ...       V21       V22       V23       V24       V25  \\\n",
            "0  0.098698  0.363787  ... -0.018307  0.277838 -0.110474  0.066928  0.128539   \n",
            "1  0.085102 -0.255425  ... -0.225775 -0.638672  0.101288 -0.339846  0.167170   \n",
            "2  0.247676 -1.514654  ...  0.247998  0.771679  0.909412 -0.689281 -0.327642   \n",
            "3  0.377436 -1.387024  ... -0.108300  0.005274 -0.190321 -1.175575  0.647376   \n",
            "4 -0.270533  0.817739  ... -0.009431  0.798278 -0.137458  0.141267 -0.206010   \n",
            "\n",
            "        V26       V27       V28  Amount  Class  \n",
            "0 -0.189115  0.133558 -0.021053  149.62      0  \n",
            "1  0.125895 -0.008983  0.014724    2.69      0  \n",
            "2 -0.139097 -0.055353 -0.059752  378.66      0  \n",
            "3 -0.221929  0.062723  0.061458  123.50      0  \n",
            "4  0.502292  0.219422  0.215153   69.99      0  \n",
            "\n",
            "[5 rows x 31 columns]\n"
          ]
        }
      ]
    },
    {
      "cell_type": "markdown",
      "source": [
        "We can also check the dataset's information and summary statistics."
      ],
      "metadata": {
        "id": "z816SKjWbCbw"
      }
    },
    {
      "cell_type": "code",
      "source": [
        "print(df.info())"
      ],
      "metadata": {
        "id": "ys4r_b3WbFE7"
      },
      "execution_count": null,
      "outputs": []
    },
    {
      "cell_type": "code",
      "source": [
        "print(df.describe())"
      ],
      "metadata": {
        "id": "qvA0Tg7RbG15"
      },
      "execution_count": null,
      "outputs": []
    },
    {
      "cell_type": "markdown",
      "source": [
        "**Data Visualization <a name=\"data-visualization\"></a>**\n",
        "\n",
        "Visualizing data helps in understanding distributions, correlations, and patterns. Matplotlib and Seaborn provide functions to create various plots such as histograms, scatter plots, and heatmaps, enabling us to visualize relationships and anomalies in the data.\n",
        "\n",
        "**Let's visualize the class distribution to see the imbalance in the dataset.**"
      ],
      "metadata": {
        "id": "NEI1fCjMbJUu"
      }
    },
    {
      "cell_type": "code",
      "source": [
        "sns.countplot(x='Class', data=df)\n",
        "plt.title('Class Distribution')\n",
        "plt.show()"
      ],
      "metadata": {
        "colab": {
          "base_uri": "https://localhost:8080/",
          "height": 472
        },
        "id": "ldP2nDlpbOqg",
        "outputId": "76f30012-13ad-4ecb-adeb-7d3dcf4564c5"
      },
      "execution_count": null,
      "outputs": [
        {
          "output_type": "display_data",
          "data": {
            "text/plain": [
              "<Figure size 640x480 with 1 Axes>"
            ],
            "image/png": "[encoded data removed]"
          },
          "metadata": {}
        }
      ]
    },
    {
      "cell_type": "markdown",
      "source": [
        "#**Data Preprocessing <a name=\"data-preprocessing\"></a>**\n",
        "\n",
        "**Handling Missing Values <a name=\"handling-missing-values\"></a>**\n",
        "\n",
        "Check for missing values and handle them if necessary."
      ],
      "metadata": {
        "id": "0v_c7I8vbg3G"
      }
    },
    {
      "cell_type": "code",
      "source": [
        "print(df.isnull().sum())\n"
      ],
      "metadata": {
        "colab": {
          "base_uri": "https://localhost:8080/"
        },
        "id": "kavkgL81bfh9",
        "outputId": "c51de1a9-3d88-4d72-e479-5554192fa249"
      },
      "execution_count": null,
      "outputs": [
        {
          "output_type": "stream",
          "name": "stdout",
          "text": [
            "Time      0\n",
            "V1        0\n",
            "V2        0\n",
            "V3        0\n",
            "V4        0\n",
            "V5        0\n",
            "V6        0\n",
            "V7        0\n",
            "V8        0\n",
            "V9        0\n",
            "V10       0\n",
            "V11       0\n",
            "V12       0\n",
            "V13       0\n",
            "V14       0\n",
            "V15       0\n",
            "V16       0\n",
            "V17       0\n",
            "V18       0\n",
            "V19       0\n",
            "V20       0\n",
            "V21       0\n",
            "V22       0\n",
            "V23       0\n",
            "V24       0\n",
            "V25       0\n",
            "V26       0\n",
            "V27       0\n",
            "V28       0\n",
            "Amount    0\n",
            "Class     0\n",
            "dtype: int64\n"
          ]
        }
      ]
    },
    {
      "cell_type": "markdown",
      "source": [
        "**Splitting the Data <a name=\"splitting-data\"></a>**\n",
        "\n",
        "We will split the dataset into features (X) and target variable (y)."
      ],
      "metadata": {
        "id": "SsLz-mZjd8Xk"
      }
    },
    {
      "cell_type": "code",
      "source": [
        "X = df.drop('Class', axis=1)\n",
        "y = df['Class']\n"
      ],
      "metadata": {
        "id": "9hiaR6UBeC3X"
      },
      "execution_count": null,
      "outputs": []
    },
    {
      "cell_type": "markdown",
      "source": [
        "#**Dealing with Imbalanced Data <a name=\"dealing-imbalanced-data\"></a>**\n",
        "\n",
        "---\n",
        "**What is Imbalanced Data**: Imbalanced data occurs when one class (e.g., fraudulent transactions) is underrepresented compared to another class (e.g., non-fraudulent transactions).\n",
        "\n",
        "---\n",
        "**Why Handle Imbalanced Data**: Imbalanced datasets can lead to biased models that favor the majority class. Techniques like oversampling (SMOTE) and undersampling help balance the dataset, ensuring better model performance.\n",
        "\n",
        "---\n",
        "\n",
        "**SMOTE (Synthetic Minority Over-sampling Technique)**: SMOTE generates synthetic samples for the minority class by interpolating between existing minority class samples. This technique helps in improving the model's ability to detect fraud cases.\n",
        "\n",
        "To handle the imbalanced dataset, we will use this technique."
      ],
      "metadata": {
        "id": "49nWumkPb8Z0"
      }
    },
    {
      "cell_type": "markdown",
      "source": [
        "smote function"
      ],
      "metadata": {
        "id": "uoNIUoRUNLnT"
      }
    },
    {
      "cell_type": "code",
      "source": [
        "smote = SMOTE(random_state=42)\n",
        "X_resampled, y_resampled = smote.fit_resample(X, y)\n"
      ],
      "metadata": {
        "id": "klJwsmVbdDhO"
      },
      "execution_count": null,
      "outputs": []
    },
    {
      "cell_type": "markdown",
      "source": [
        "Then, we will split the data into training and testing sets.\n",
        "\n",
        "Before training the model, we split the dataset into training and testing sets using `train_test_split()` from Scikit-learn. This ensures that the model's performance can be evaluated on unseen data."
      ],
      "metadata": {
        "id": "PhgCFybSePqI"
      }
    },
    {
      "cell_type": "code",
      "source": [
        "X_train, X_test, y_train, y_test = train_test_split(X_resampled, y_resampled, test_size=0.2, random_state=42)\n"
      ],
      "metadata": {
        "id": "0Fb07jDreMbV"
      },
      "execution_count": null,
      "outputs": []
    },
    {
      "cell_type": "markdown",
      "source": [
        "**Standardizing the Features <a name=\"standardizing-features\"></a>**\n",
        "\n",
        "Standardization is important for many machine learning algorithms.\n",
        "\n",
        "Standardization (or normalization) of features ensures that all features contribute equally to the model training process. We use StandardScaler from Scikit-learn to standardize numerical features, making them have zero mean and unit variance.\n",
        "\n",
        "\n",
        " We will use StandardScaler from scikit-learn to standardize the features."
      ],
      "metadata": {
        "id": "N6iSKh58eUeN"
      }
    },
    {
      "cell_type": "code",
      "source": [
        "scaler = StandardScaler()\n",
        "X_train_scaled = scaler.fit_transform(X_train)\n",
        "X_test_scaled = scaler.transform(X_test)\n"
      ],
      "metadata": {
        "id": "PkahKt2zea4i"
      },
      "execution_count": null,
      "outputs": []
    },
    {
      "cell_type": "markdown",
      "source": [
        "#**Building and Training the Model <a name=\"building-training-model\"></a>**\n",
        "\n",
        "Machine learning models learn patterns from data to make predictions. We'll use algorithms like RandomForestClassifier, which builds multiple decision trees and merges them together to improve predictive accuracy.\n",
        "\n",
        "---\n",
        "\n",
        "**Using Advanced Algorithms <a name=\"advanced-algorithms\"></a>**\n",
        "\n",
        "We will use a Random Forest Classifier and a Gradient Boosting Classifier for this task. These are ensemble methods that combine multiple models to improve accuracy and prevent overfitting.\n",
        "\n",
        "---\n",
        "\n",
        "Random Forest Classifier"
      ],
      "metadata": {
        "id": "eIpXRnZCeeMo"
      }
    },
    {
      "cell_type": "code",
      "source": [
        "rf_model = RandomForestClassifier(n_estimators=100, random_state=42)\n",
        "rf_model.fit(X_train_scaled, y_train)\n"
      ],
      "metadata": {
        "colab": {
          "base_uri": "https://localhost:8080/",
          "height": 74
        },
        "id": "DhWRpYUleyao",
        "outputId": "a4f2dfcc-d6bc-4f2a-f899-bd540d804673"
      },
      "execution_count": null,
      "outputs": [
        {
          "output_type": "execute_result",
          "data": {
            "text/plain": [
              "RandomForestClassifier(random_state=42)"
            ],
            "text/html": [
              "<style>#sk-container-id-1 {color: black;background-color: white;}#sk-container-id-1 pre{padding: 0;}#sk-container-id-1 div.sk-toggleable {background-color: white;}#sk-container-id-1 label.sk-toggleable__label {cursor: pointer;display: block;width: 100%;margin-bottom: 0;padding: 0.3em;box-sizing: border-box;text-align: center;}#sk-container-id-1 label.sk-toggleable__label-arrow:before {content: \"▸\";float: left;margin-right: 0.25em;color: #696969;}#sk-container-id-1 label.sk-toggleable__label-arrow:hover:before {color: black;}#sk-container-id-1 div.sk-estimator:hover label.sk-toggleable__label-arrow:before {color: black;}#sk-container-id-1 div.sk-toggleable__content {max-height: 0;max-width: 0;overflow: hidden;text-align: left;background-color: #f0f8ff;}#sk-container-id-1 div.sk-toggleable__content pre {margin: 0.2em;color: black;border-radius: 0.25em;background-color: #f0f8ff;}#sk-container-id-1 input.sk-toggleable__control:checked~div.sk-toggleable__content {max-height: 200px;max-width: 100%;overflow: auto;}#sk-container-id-1 input.sk-toggleable__control:checked~label.sk-toggleable__label-arrow:before {content: \"▾\";}#sk-container-id-1 div.sk-estimator input.sk-toggleable__control:checked~label.sk-toggleable__label {background-color: #d4ebff;}#sk-container-id-1 div.sk-label input.sk-toggleable__control:checked~label.sk-toggleable__label {background-color: #d4ebff;}#sk-container-id-1 input.sk-hidden--visually {border: 0;clip: rect(1px 1px 1px 1px);clip: rect(1px, 1px, 1px, 1px);height: 1px;margin: -1px;overflow: hidden;padding: 0;position: absolute;width: 1px;}#sk-container-id-1 div.sk-estimator {font-family: monospace;background-color: #f0f8ff;border: 1px dotted black;border-radius: 0.25em;box-sizing: border-box;margin-bottom: 0.5em;}#sk-container-id-1 div.sk-estimator:hover {background-color: #d4ebff;}#sk-container-id-1 div.sk-parallel-item::after {content: \"\";width: 100%;border-bottom: 1px solid gray;flex-grow: 1;}#sk-container-id-1 div.sk-label:hover label.sk-toggleable__label {background-color: #d4ebff;}#sk-container-id-1 div.sk-serial::before {content: \"\";position: absolute;border-left: 1px solid gray;box-sizing: border-box;top: 0;bottom: 0;left: 50%;z-index: 0;}#sk-container-id-1 div.sk-serial {display: flex;flex-direction: column;align-items: center;background-color: white;padding-right: 0.2em;padding-left: 0.2em;position: relative;}#sk-container-id-1 div.sk-item {position: relative;z-index: 1;}#sk-container-id-1 div.sk-parallel {display: flex;align-items: stretch;justify-content: center;background-color: white;position: relative;}#sk-container-id-1 div.sk-item::before, #sk-container-id-1 div.sk-parallel-item::before {content: \"\";position: absolute;border-left: 1px solid gray;box-sizing: border-box;top: 0;bottom: 0;left: 50%;z-index: -1;}#sk-container-id-1 div.sk-parallel-item {display: flex;flex-direction: column;z-index: 1;position: relative;background-color: white;}#sk-container-id-1 div.sk-parallel-item:first-child::after {align-self: flex-end;width: 50%;}#sk-container-id-1 div.sk-parallel-item:last-child::after {align-self: flex-start;width: 50%;}#sk-container-id-1 div.sk-parallel-item:only-child::after {width: 0;}#sk-container-id-1 div.sk-dashed-wrapped {border: 1px dashed gray;margin: 0 0.4em 0.5em 0.4em;box-sizing: border-box;padding-bottom: 0.4em;background-color: white;}#sk-container-id-1 div.sk-label label {font-family: monospace;font-weight: bold;display: inline-block;line-height: 1.2em;}#sk-container-id-1 div.sk-label-container {text-align: center;}#sk-container-id-1 div.sk-container {/* jupyter's `normalize.less` sets `[hidden] { display: none; }` but bootstrap.min.css set `[hidden] { display: none !important; }` so we also need the `!important` here to be able to override the default hidden behavior on the sphinx rendered scikit-learn.org. See: https://github.com/scikit-learn/scikit-learn/issues/21755 */display: inline-block !important;position: relative;}#sk-container-id-1 div.sk-text-repr-fallback {display: none;}</style><div id=\"sk-container-id-1\" class=\"sk-top-container\"><div class=\"sk-text-repr-fallback\"><pre>RandomForestClassifier(random_state=42)</pre><b>In a Jupyter environment, please rerun this cell to show the HTML representation or trust the notebook. <br />On GitHub, the HTML representation is unable to render, please try loading this page with nbviewer.org.</b></div><div class=\"sk-container\" hidden><div class=\"sk-item\"><div class=\"sk-estimator sk-toggleable\"><input class=\"sk-toggleable__control sk-hidden--visually\" id=\"sk-estimator-id-1\" type=\"checkbox\" checked><label for=\"sk-estimator-id-1\" class=\"sk-toggleable__label sk-toggleable__label-arrow\">RandomForestClassifier</label><div class=\"sk-toggleable__content\"><pre>RandomForestClassifier(random_state=42)</pre></div></div></div></div></div>"
            ]
          },
          "metadata": {},
          "execution_count": 17
        }
      ]
    },
    {
      "cell_type": "code",
      "source": [
        "gb_model = GradientBoostingClassifier(random_state=42)\n",
        "gb_model.fit(X_train_scaled, y_train)\n"
      ],
      "metadata": {
        "colab": {
          "base_uri": "https://localhost:8080/",
          "height": 74
        },
        "id": "EOgzFsImifcK",
        "outputId": "35ba3a0e-0af6-4b9d-a2e6-4f9b9b25d111"
      },
      "execution_count": null,
      "outputs": [
        {
          "output_type": "execute_result",
          "data": {
            "text/plain": [
              "GradientBoostingClassifier(random_state=42)"
            ],
            "text/html": [
              "<style>#sk-container-id-2 {color: black;background-color: white;}#sk-container-id-2 pre{padding: 0;}#sk-container-id-2 div.sk-toggleable {background-color: white;}#sk-container-id-2 label.sk-toggleable__label {cursor: pointer;display: block;width: 100%;margin-bottom: 0;padding: 0.3em;box-sizing: border-box;text-align: center;}#sk-container-id-2 label.sk-toggleable__label-arrow:before {content: \"▸\";float: left;margin-right: 0.25em;color: #696969;}#sk-container-id-2 label.sk-toggleable__label-arrow:hover:before {color: black;}#sk-container-id-2 div.sk-estimator:hover label.sk-toggleable__label-arrow:before {color: black;}#sk-container-id-2 div.sk-toggleable__content {max-height: 0;max-width: 0;overflow: hidden;text-align: left;background-color: #f0f8ff;}#sk-container-id-2 div.sk-toggleable__content pre {margin: 0.2em;color: black;border-radius: 0.25em;background-color: #f0f8ff;}#sk-container-id-2 input.sk-toggleable__control:checked~div.sk-toggleable__content {max-height: 200px;max-width: 100%;overflow: auto;}#sk-container-id-2 input.sk-toggleable__control:checked~label.sk-toggleable__label-arrow:before {content: \"▾\";}#sk-container-id-2 div.sk-estimator input.sk-toggleable__control:checked~label.sk-toggleable__label {background-color: #d4ebff;}#sk-container-id-2 div.sk-label input.sk-toggleable__control:checked~label.sk-toggleable__label {background-color: #d4ebff;}#sk-container-id-2 input.sk-hidden--visually {border: 0;clip: rect(1px 1px 1px 1px);clip: rect(1px, 1px, 1px, 1px);height: 1px;margin: -1px;overflow: hidden;padding: 0;position: absolute;width: 1px;}#sk-container-id-2 div.sk-estimator {font-family: monospace;background-color: #f0f8ff;border: 1px dotted black;border-radius: 0.25em;box-sizing: border-box;margin-bottom: 0.5em;}#sk-container-id-2 div.sk-estimator:hover {background-color: #d4ebff;}#sk-container-id-2 div.sk-parallel-item::after {content: \"\";width: 100%;border-bottom: 1px solid gray;flex-grow: 1;}#sk-container-id-2 div.sk-label:hover label.sk-toggleable__label {background-color: #d4ebff;}#sk-container-id-2 div.sk-serial::before {content: \"\";position: absolute;border-left: 1px solid gray;box-sizing: border-box;top: 0;bottom: 0;left: 50%;z-index: 0;}#sk-container-id-2 div.sk-serial {display: flex;flex-direction: column;align-items: center;background-color: white;padding-right: 0.2em;padding-left: 0.2em;position: relative;}#sk-container-id-2 div.sk-item {position: relative;z-index: 1;}#sk-container-id-2 div.sk-parallel {display: flex;align-items: stretch;justify-content: center;background-color: white;position: relative;}#sk-container-id-2 div.sk-item::before, #sk-container-id-2 div.sk-parallel-item::before {content: \"\";position: absolute;border-left: 1px solid gray;box-sizing: border-box;top: 0;bottom: 0;left: 50%;z-index: -1;}#sk-container-id-2 div.sk-parallel-item {display: flex;flex-direction: column;z-index: 1;position: relative;background-color: white;}#sk-container-id-2 div.sk-parallel-item:first-child::after {align-self: flex-end;width: 50%;}#sk-container-id-2 div.sk-parallel-item:last-child::after {align-self: flex-start;width: 50%;}#sk-container-id-2 div.sk-parallel-item:only-child::after {width: 0;}#sk-container-id-2 div.sk-dashed-wrapped {border: 1px dashed gray;margin: 0 0.4em 0.5em 0.4em;box-sizing: border-box;padding-bottom: 0.4em;background-color: white;}#sk-container-id-2 div.sk-label label {font-family: monospace;font-weight: bold;display: inline-block;line-height: 1.2em;}#sk-container-id-2 div.sk-label-container {text-align: center;}#sk-container-id-2 div.sk-container {/* jupyter's `normalize.less` sets `[hidden] { display: none; }` but bootstrap.min.css set `[hidden] { display: none !important; }` so we also need the `!important` here to be able to override the default hidden behavior on the sphinx rendered scikit-learn.org. See: https://github.com/scikit-learn/scikit-learn/issues/21755 */display: inline-block !important;position: relative;}#sk-container-id-2 div.sk-text-repr-fallback {display: none;}</style><div id=\"sk-container-id-2\" class=\"sk-top-container\"><div class=\"sk-text-repr-fallback\"><pre>GradientBoostingClassifier(random_state=42)</pre><b>In a Jupyter environment, please rerun this cell to show the HTML representation or trust the notebook. <br />On GitHub, the HTML representation is unable to render, please try loading this page with nbviewer.org.</b></div><div class=\"sk-container\" hidden><div class=\"sk-item\"><div class=\"sk-estimator sk-toggleable\"><input class=\"sk-toggleable__control sk-hidden--visually\" id=\"sk-estimator-id-2\" type=\"checkbox\" checked><label for=\"sk-estimator-id-2\" class=\"sk-toggleable__label sk-toggleable__label-arrow\">GradientBoostingClassifier</label><div class=\"sk-toggleable__content\"><pre>GradientBoostingClassifier(random_state=42)</pre></div></div></div></div></div>"
            ]
          },
          "metadata": {},
          "execution_count": 19
        }
      ]
    },
    {
      "cell_type": "markdown",
      "source": [
        "**Making Predictions <a name=\"making-predictions\"></a>**\n",
        "\n",
        "Once the model is trained, it can predict whether a transaction is fraudulent or not based on its input features. Predictions are made using the predict() method of the trained model.\n",
        "\n",
        "\n",
        "Use the trained models to make predictions on the test set."
      ],
      "metadata": {
        "id": "S-dTZT8jioEu"
      }
    },
    {
      "cell_type": "code",
      "source": [
        "y_pred_rf = rf_model.predict(X_test_scaled)\n",
        "y_pred_gb = gb_model.predict(X_test_scaled)\n"
      ],
      "metadata": {
        "id": "XmTtrlRFizA0"
      },
      "execution_count": null,
      "outputs": []
    },
    {
      "cell_type": "markdown",
      "source": [
        "#**Evaluating the Models <a name=\"evaluating-model\"></a>**\n",
        "\n",
        "**Classification Report <a name=\"classification-report\"></a>**\n",
        "\n",
        "A classification report provides metrics such as precision, recall, F1-score, and support for each class. It helps in understanding the model's performance in detecting fraudulent transactions.\n",
        "\n",
        "---\n",
        "**Precision**:\n",
        "\n",
        "What it is: Precision measures the accuracy of the positive predictions. It tells us what proportion of the predicted positive cases were actually positive.\n",
        "Why it matters: High precision means that when the model predicts a positive case, it is usually correct. It’s important when the cost of false positives is high.\n",
        "Example: If a fraud detection system identifies 10 transactions as fraudulent and 8 of them are actually fraudulent, the precision is 80%.\n",
        "\n",
        "---\n",
        "\n",
        "**Recall**:\n",
        "\n",
        "What it is: Recall (also known as sensitivity or true positive rate) measures the ability of the model to identify all actual positive cases. It tells us what proportion of the actual positive cases were correctly identified by the model.\n",
        "Why it matters: High recall means that the model catches most of the actual positive cases. It’s important when the cost of false negatives is high.\n",
        "Example: If there are 20 actual fraudulent transactions and the model identifies 15 of them, the recall is 75%.\n",
        "\n",
        "---\n",
        "\n",
        "**F1-Score**:\n",
        "\n",
        "What it is: The F1-score is the harmonic mean of precision and recall. It provides a single metric that balances both concerns.\n",
        "Why it matters: It is useful when you need a balance between precision and recall and there is an uneven class distribution.\n",
        "Example: If a model has a precision of 70% and a recall of 80%, the F1-score will be around 74%.\n",
        "\n",
        "---\n",
        "\n",
        "**Support**:\n",
        "\n",
        "What it is: Support is the number of actual occurrences of each class in the dataset. It gives you an idea of how many instances of each class are present.\n",
        "Why it matters: Knowing the support helps in understanding the context of precision, recall, and F1-score, especially if the classes are imbalanced.\n",
        "Example: If there are 1000 transactions and 50 of them are fraudulent, the support for the fraud class is 50 and for the non-fraud class is 950.\n",
        "\n",
        "---\n",
        "\n",
        "Generate a classification report to evaluate the model performance.\n",
        "\n"
      ],
      "metadata": {
        "id": "8czn2Jfwi1oD"
      }
    },
    {
      "cell_type": "code",
      "source": [
        "print(\"Random Forest Classifier:\")\n",
        "print(classification_report(y_test, y_pred_rf))\n"
      ],
      "metadata": {
        "colab": {
          "base_uri": "https://localhost:8080/"
        },
        "id": "oyE3wNPSjDqX",
        "outputId": "aa406589-e276-49f7-d6a3-8fe9d40b3ae5"
      },
      "execution_count": null,
      "outputs": [
        {
          "output_type": "stream",
          "name": "stdout",
          "text": [
            "Random Forest Classifier:\n",
            "              precision    recall  f1-score   support\n",
            "\n",
            "           0       1.00      1.00      1.00     56750\n",
            "           1       1.00      1.00      1.00     56976\n",
            "\n",
            "    accuracy                           1.00    113726\n",
            "   macro avg       1.00      1.00      1.00    113726\n",
            "weighted avg       1.00      1.00      1.00    113726\n",
            "\n"
          ]
        }
      ]
    },
    {
      "cell_type": "code",
      "source": [
        "print(\"Gradient Boosting Classifier:\")\n",
        "print(classification_report(y_test, y_pred_gb))\n"
      ],
      "metadata": {
        "colab": {
          "base_uri": "https://localhost:8080/"
        },
        "id": "SWKOqBoUjGi9",
        "outputId": "aac044ed-8087-475e-b76a-282235ca20e3"
      },
      "execution_count": null,
      "outputs": [
        {
          "output_type": "stream",
          "name": "stdout",
          "text": [
            "Gradient Boosting Classifier:\n",
            "              precision    recall  f1-score   support\n",
            "\n",
            "           0       0.98      0.99      0.99     56750\n",
            "           1       0.99      0.98      0.99     56976\n",
            "\n",
            "    accuracy                           0.99    113726\n",
            "   macro avg       0.99      0.99      0.99    113726\n",
            "weighted avg       0.99      0.99      0.99    113726\n",
            "\n"
          ]
        }
      ]
    },
    {
      "cell_type": "markdown",
      "source": [
        "**Confusion Matrix <a name=\"confusion-matrix\"></a>**\n",
        "\n",
        "A confusion matrix is a table that summarizes the actual and predicted classifications done by a classification model. It helps visualize the performance of the model by showing the counts of true positives, true negatives, false positives, and false negatives.\n",
        "\n",
        "Visualize the confusion matrix for each model."
      ],
      "metadata": {
        "id": "G91KtiYijK9A"
      }
    },
    {
      "cell_type": "code",
      "source": [
        "# Predict using the models\n",
        "rf_pred = rf_model.predict(X_test_scaled)\n",
        "gb_pred = gb_model.predict(X_test_scaled)\n",
        "\n",
        "# Create confusion matrices\n",
        "rf_cm = confusion_matrix(y_test, rf_pred)\n",
        "gb_cm = confusion_matrix(y_test, gb_pred)\n",
        "\n",
        "# Display confusion matrices\n",
        "plt.figure(figsize=(12, 5))\n",
        "\n",
        "plt.subplot(1, 2, 1)\n",
        "ConfusionMatrixDisplay(confusion_matrix=rf_cm, display_labels=['Non-Fraud', 'Fraud']).plot(cmap=plt.cm.Blues, ax=plt.gca())\n",
        "plt.title('Random Forest Classifier')\n",
        "\n",
        "plt.subplot(1, 2, 2)\n",
        "ConfusionMatrixDisplay(confusion_matrix=gb_cm, display_labels=['Non-Fraud', 'Fraud']).plot(cmap=plt.cm.Blues, ax=plt.gca())\n",
        "plt.title('Gradient Boosting Classifier')\n",
        "\n",
        "plt.show()"
      ],
      "metadata": {
        "colab": {
          "base_uri": "https://localhost:8080/",
          "height": 441
        },
        "id": "K77r646hjb4a",
        "outputId": "de2b57b8-67a2-4b16-b7b3-14671ff8f81a"
      },
      "execution_count": null,
      "outputs": [
        {
          "output_type": "display_data",
          "data": {
            "text/plain": [
              "<Figure size 1200x500 with 4 Axes>"
            ],
            "image/png": "[encoded data removed]"
          },
          "metadata": {}
        }
      ]
    },
    {
      "cell_type": "markdown",
      "source": [
        "\n",
        "\n",
        "**Layout of a Confusion matrix<a name=\"aconfusion-matrix\"></a>**\n",
        "\n",
        "The four squares in a confusion matrix represent the counts of true positives (TP), true negatives (TN), false positives (FP), and false negatives (FN). These counts are crucial for understanding the performance of a classification model. Here’s a detailed breakdown of each quadrant in the context of fraud detection:\n",
        "\n",
        "#Explanation of Each Quadrant\n",
        "**True Negative (TN)**\n",
        "\n",
        "Location: Top-left\n",
        "Description: The number of correctly predicted non-fraudulent transactions. Both the actual and predicted values are negative (non-fraud).\n",
        "Significance: Indicates how well the model identifies legitimate transactions.\n",
        "\n",
        "---\n",
        "\n",
        "**False Positive (FP)**\n",
        "\n",
        "Location: Top-right\n",
        "Description: The number of non-fraudulent transactions incorrectly predicted as fraudulent. The actual value is negative (non-fraud), but the predicted value is positive (fraud).\n",
        "Significance: Indicates the instances where the model mistakenly flags legitimate transactions as fraud.\n",
        "\n",
        "---\n",
        "**False Negative (FN)**\n",
        "\n",
        "Location: Bottom-left\n",
        "Description: The number of fraudulent transactions incorrectly predicted as non-fraudulent. The actual value is positive (fraud), but the predicted value is negative (non-fraud).\n",
        "Significance: Indicates the instances where the model fails to detect fraud . These are missed fraud cases, which can be more problematic than FPs.\n",
        "\n",
        "---\n",
        "\n",
        "**True Positive (TP)**\n",
        "\n",
        "Location: Bottom-right\n",
        "Description: The number of correctly predicted fraudulent transactions. Both the actual and predicted values are positive (fraud).\n",
        "Significance: Indicates how well the model detects actual fraudulent transactions."
      ],
      "metadata": {
        "id": "1-ZR0geTZ4K5"
      }
    },
    {
      "cell_type": "markdown",
      "source": [
        "                 Predicted Negative  | Predicted Positive\n",
        "                 Actual Negative |        TN         |         FP\n",
        "\n",
        "                 Actual Positive |        FN         |         TP"
      ],
      "metadata": {
        "id": "JCDJLuF_aCIX"
      }
    },
    {
      "cell_type": "markdown",
      "source": [
        "**ROC Curve and AUC <a name=\"roc-auc\"></a>**\n",
        "\n",
        "The ROC curve plots the true positive rate (sensitivity) against the false positive rate (1-specificity) for different threshold values. AUC (Area Under the ROC Curve) quantifies the model's ability to distinguish between classes, with higher values indicating better performance.\n",
        "\n",
        "Plot ROC curves and calculate AUC for model evaluation."
      ],
      "metadata": {
        "id": "EFVgF-KRjf5o"
      }
    },
    {
      "cell_type": "code",
      "source": [
        "# Create subplots\n",
        "fig, axes = plt.subplots(1, 2, figsize=(12, 6))\n",
        "\n",
        "# Plot ROC Curve for Random Forest\n",
        "RocCurveDisplay.from_estimator(rf_model, X_test_scaled, y_test, ax=axes[0])\n",
        "axes[0].set_title('Random Forest Classifier ROC Curve')\n",
        "\n",
        "# Plot ROC Curve for Gradient Boosting\n",
        "RocCurveDisplay.from_estimator(gb_model, X_test_scaled, y_test, ax=axes[1])\n",
        "axes[1].set_title('Gradient Boosting Classifier ROC Curve')\n",
        "\n",
        "plt.tight_layout()\n",
        "plt.show()"
      ],
      "metadata": {
        "colab": {
          "base_uri": "https://localhost:8080/",
          "height": 607
        },
        "id": "BXt1xeRpjl4J",
        "outputId": "1db16a84-7971-4acb-8d72-7f2715961ed1"
      },
      "execution_count": null,
      "outputs": [
        {
          "output_type": "display_data",
          "data": {
            "text/plain": [
              "<Figure size 1200x600 with 2 Axes>"
            ],
            "image/png": "[encoded data removed]"
          },
          "metadata": {}
        }
      ]
    },
    {
      "cell_type": "markdown",
      "source": [
        "**User Input for Prediction <a name=\"user-input\"></a>**\n",
        "\n",
        "Allow users to input data for prediction using the trained model.\n",
        "\n",
        "We will define a function to take user input, preprocess it, and make a prediction.\n"
      ],
      "metadata": {
        "id": "UNJAaUfajqHM"
      }
    },
    {
      "cell_type": "code",
      "source": [
        "def get_user_input():\n",
        "    user_input = input(\"Enter the transaction data as a list of floats separated by commas: \")\n",
        "    user_data = np.array([float(i) for i in user_input.split(',')]).reshape(1, -1)\n",
        "    user_data_scaled = scaler.transform(user_data)\n",
        "    prediction = rf_model.predict(user_data_scaled)\n",
        "    return \"Fraud\" if prediction[0] == 1 else \"Not Fraud\"\n",
        "\n",
        "print(get_user_input())\n"
      ],
      "metadata": {
        "colab": {
          "base_uri": "https://localhost:8080/"
        },
        "id": "FRY6xn04j7mw",
        "outputId": "c1c88eb3-05cb-45e4-9b53-4c06bac83e1d"
      },
      "execution_count": null,
      "outputs": [
        {
          "output_type": "stream",
          "name": "stdout",
          "text": [
            "Enter the transaction data as a list of floats separated by commas: 200.0, 10.0, 0.9, -0.5, 0.2, 0.1, -0.3, 0.5, 0.8, 0.4, -0.1, -0.2, 0.6, 0.3, -0.7, 0.2, 0.1, 0.5, -0.4, 0.9, -0.2, 0.3, 0.7, -0.8, 0.6, 0.2, -0.5, 0.1, -0.3, 0.4\n",
            "Not Fraud\n"
          ]
        }
      ]
    },
    {
      "cell_type": "code",
      "source": [
        "import warnings\n",
        "\n",
        "# Suppress specific sklearn warnings\n",
        "warnings.filterwarnings('ignore', category=UserWarning, module='sklearn.base')\n"
      ],
      "metadata": {
        "id": "JkI8txqtrErj"
      },
      "execution_count": null,
      "outputs": []
    },
    {
      "cell_type": "code",
      "source": [
        "def get_user_input():\n",
        "    user_input = input(\"Enter the transaction data as a list of floats separated by commas: \")\n",
        "    user_data = np.array([float(i) for i in user_input.split(',')]).reshape(1, -1)\n",
        "    user_data_scaled = scaler.transform(user_data)\n",
        "    prediction = gb_model.predict(user_data_scaled)\n",
        "    return \"Fraud\" if prediction[0] == 1 else \"Not Fraud\"\n",
        "\n",
        "print(get_user_input())\n"
      ],
      "metadata": {
        "id": "ecQhgB8WqMPx"
      },
      "execution_count": null,
      "outputs": []
    },
    {
      "cell_type": "markdown",
      "source": [
        "#Conclusion <a name=\"conclusion\"></a>\n",
        "\n",
        "In this tutorial, we explored the process of building a machine learning model for credit card fraud detection using Python and various libraries such as scikit-learn, pandas, numpy, matplotlib, and seaborn. We discussed data preprocessing, model training with advanced algorithms, evaluation metrics like classification report, confusion matrix, ROC curve, and AUC. Finally, we prepared for user input prediction, demonstrating a comprehensive approach to leveraging machine learning for fraud detection. We hope this tutorial has provided you with a good foundation for using Python libraries in machine learning projects. Thank you."
      ],
      "metadata": {
        "id": "ZVZJpf6ek0xw"
      }
    },
    {
      "cell_type": "markdown",
      "source": [
        "---\n",
        "#Congrats! That's it for this tutorial.\n",
        "\n",
        "---\n",
        "<h1> Author(s):</h1>\n",
        "\n",
        "\n",
        "# **Abigail Akua Sika Boateng**\n",
        "\n",
        "\n",
        "**Social Media Handles**:\n",
        "* [Abigail (Akua Sika) Boateng](https://www.linkedin.com/in/abigail-boateng-287102244/)\n",
        "\n",
        "\n",
        "\n",
        "**Email:** abigailakuasikaboateng.com\n",
        "\n",
        "---\n",
        "# **Akua Serwaa Nkrumah**\n",
        "\n",
        "\n",
        "**Social Media Handles**:\n",
        "* [ Akua Serwaa Nkrumah ](https://www.linkedin.com/in/akua-serwaa-nkrumah-a4b782202)\n",
        "\n",
        "\n",
        "\n",
        "**Email:** nkrumahakua2002@gmail.com"
      ],
      "metadata": {
        "id": "RG-7-bsBVKeS"
      }
    },
    {
      "cell_type": "markdown",
      "source": [
        "---\n",
        "\n",
        "*This notebook was originally created by Ghana Data Science Summit for the [IndabaX Ghana](https://www.indabaxghana.com/) 2024 Conference and is published under [MIT license](https://choosealicense.com/licenses/mit/).*"
      ],
      "metadata": {
        "id": "Ee3fRQRGQm-9"
      }
    }
  ]
}